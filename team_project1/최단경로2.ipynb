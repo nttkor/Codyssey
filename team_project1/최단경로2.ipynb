{
  "nbformat": 4,
  "nbformat_minor": 0,
  "metadata": {
    "colab": {
      "provenance": []
    },
    "kernelspec": {
      "name": "python3",
      "display_name": "Python 3"
    },
    "language_info": {
      "name": "python"
    }
  },
  "cells": [
    {
      "cell_type": "code",
      "execution_count": null,
      "metadata": {
        "id": "gTyBpJ4-yWkl"
      },
      "outputs": [],
      "source": []
    },
    {
      "cell_type": "markdown",
      "metadata": {
        "id": "fa40e16e"
      },
      "source": [
        "# Task\n",
        "15x15 맵에서 (1,1)이 왼쪽 위 좌표일 때, 장애물 좌표 (5,5), (3,7), (8,4), (11,12), (6,8), (9,4), (6,11), 커피숍 좌표 (3,5), (6,4), (11,7), Home 좌표 (12,3), 목표 좌표 (2,13), (3,14)를 정의하고, Home에서 시작하여 장애물을 피해 모든 커피숍을 한 번씩 방문한 후 두 목표 중 최단 경로로 이동하는 파이썬 코드를 작성해줘. Matplotlib을 사용하여 맵과 최단 경로를 시각화하고, 코드에 한국어 주석을 포함해줘."
      ]
    },
    {
      "cell_type": "markdown",
      "metadata": {
        "id": "61de846b"
      },
      "source": [
        "## 맵 데이터 정의\n",
        "\n",
        "### Subtask:\n",
        "15x15 맵의 크기, 장애물, 커피숍, Home, 목표 좌표를 파이썬 변수로 정의합니다.\n"
      ]
    },
    {
      "cell_type": "markdown",
      "metadata": {
        "id": "07b67afe"
      },
      "source": [
        "**Reasoning**:\n",
        "Define the variables for the map size, obstacles, coffee shops, home, and goals as instructed.\n",
        "\n"
      ]
    },
    {
      "cell_type": "code",
      "metadata": {
        "id": "c13c7615"
      },
      "source": [
        "# 맵의 크기를 정의합니다.\n",
        "map_size = 15\n",
        "\n",
        "# 장애물 좌표들을 정의합니다.\n",
        "obstacles = [(5, 5), (3, 7), (8, 4), (11, 12), (6, 8), (9, 4), (6, 11)]\n",
        "\n",
        "# 커피숍 좌표들을 정의합니다.\n",
        "coffee_shops = [(3, 5), (6, 4), (11, 7)]\n",
        "\n",
        "# Home 좌표를 정의합니다.\n",
        "home = (12, 3)\n",
        "\n",
        "# 목표 좌표들을 정의합니다.\n",
        "goals = [(2, 13), (3, 14)]"
      ],
      "execution_count": 9,
      "outputs": []
    },
    {
      "cell_type": "markdown",
      "metadata": {
        "id": "44afbc19"
      },
      "source": [
        "## 경로 탐색 알고리즘 선택 및 구현\n",
        "\n",
        "### Subtask:\n",
        "장애물을 피하고 여러 지점을 순회하는 최단 경로를 찾기 위한 알고리즘을 선택하고 구현합니다. 이 문제의 경우 TSP(Traveling Salesperson Problem)와 최단 경로 알고리즘(예: A*)을 결합해야 할 수 있습니다.\n"
      ]
    },
    {
      "cell_type": "markdown",
      "metadata": {
        "id": "6ebd4928"
      },
      "source": [
        "**Reasoning**:\n",
        "Implement functions for finding the shortest path between two points avoiding obstacles and for calculating the total distance for a given permutation of coffee shops and goals. Then, generate all possible permutations of visiting the coffee shops and reaching one of the goals.\n",
        "\n"
      ]
    },
    {
      "cell_type": "code",
      "metadata": {
        "id": "69c11c37"
      },
      "source": [
        "import heapq\n",
        "import itertools\n",
        "\n",
        "# 1. 장애물을 고려하여 두 지점 간의 최단 경로를 찾는 함수 (A* 알고리즘 사용)\n",
        "def heuristic(a, b):\n",
        "    # 맨해튼 거리 휴리스틱\n",
        "    return abs(a[0] - b[0]) + abs(a[1] - b[1])\n",
        "\n",
        "def find_shortest_path(start, goal, obstacles, map_size):\n",
        "    # 우선순위 큐를 사용하여 탐색할 노드를 관리 (f_score, 현재_좌표)\n",
        "    open_set = [(0 + heuristic(start, goal), start)]\n",
        "    # 이미 탐색한 노드를 저장하고 최단 경로를 재구성하기 위한 딕셔너리\n",
        "    came_from = {}\n",
        "    # 시작점에서 각 노드까지의 실제 비용\n",
        "    g_score = {start: 0}\n",
        "    # 시작점에서 각 노드까지의 예상 총 비용 (g_score + heuristic)\n",
        "    f_score = {start: heuristic(start, goal)}\n",
        "\n",
        "    while open_set:\n",
        "        # f_score가 가장 낮은 노드를 가져옴\n",
        "        current_f, current = heapq.heappop(open_set)\n",
        "\n",
        "        # 목표에 도달하면 경로를 재구성하여 반환\n",
        "        if current == goal:\n",
        "            path = []\n",
        "            while current in came_from:\n",
        "                path.append(current)\n",
        "                current = came_from[current]\n",
        "            path.append(start)\n",
        "            path.reverse()\n",
        "            return path\n",
        "\n",
        "        # 현재 노드의 이웃 노드들을 탐색\n",
        "        for dx, dy in [(0, 1), (0, -1), (1, 0), (-1, 0)]:\n",
        "            neighbor = (current[0] + dx, current[1] + dy)\n",
        "\n",
        "            # 맵 범위를 벗어나거나 장애물이 있는 경우 스킵\n",
        "            if not (0 <= neighbor[0] < map_size and 0 <= neighbor[1] < map_size):\n",
        "                continue\n",
        "            if neighbor in obstacles:\n",
        "                continue\n",
        "\n",
        "            # 이웃 노드까지의 새로운 g_score 계산\n",
        "            tentative_g_score = g_score[current] + 1\n",
        "\n",
        "            # 새로운 g_score가 기존 g_score보다 작거나, 이웃 노드를 처음 방문하는 경우\n",
        "            if neighbor not in g_score or tentative_g_score < g_score[neighbor]:\n",
        "                came_from[neighbor] = current\n",
        "                g_score[neighbor] = tentative_g_score\n",
        "                f_score[neighbor] = tentative_g_score + heuristic(neighbor, goal)\n",
        "                # 이웃 노드를 open_set에 추가하거나 업데이트\n",
        "                heapq.heappush(open_set, (f_score[neighbor], neighbor))\n",
        "\n",
        "    # 경로를 찾지 못한 경우 None 반환\n",
        "    return None\n",
        "\n",
        "# 3. 주어진 순열에 대한 총 경로 거리를 계산하는 함수\n",
        "def calculate_total_distance(permutation, start, goals, obstacles, map_size):\n",
        "    current_location = start\n",
        "    total_distance = 0\n",
        "    path_segments = []\n",
        "\n",
        "    # Home에서 첫 번째 방문 지점까지의 경로\n",
        "    first_stop = permutation[0]\n",
        "    path = find_shortest_path(current_location, first_stop, obstacles, map_size)\n",
        "    if path is None:\n",
        "        return float('inf'), [] # 경로를 찾지 못한 경우 무한대 반환\n",
        "    total_distance += len(path) - 1\n",
        "    path_segments.append(path)\n",
        "    current_location = first_stop\n",
        "\n",
        "    # 방문 지점들 간의 경로\n",
        "    for i in range(len(permutation) - 1):\n",
        "        path = find_shortest_path(current_location, permutation[i+1], obstacles, map_size)\n",
        "        if path is None:\n",
        "            return float('inf'), []\n",
        "        total_distance += len(path) - 1\n",
        "        path_segments.append(path)\n",
        "        current_location = permutation[i+1]\n",
        "\n",
        "    # 마지막 방문 지점에서 목표 지점까지의 경로 (두 목표 중 최단 경로 선택)\n",
        "    min_goal_distance = float('inf')\n",
        "    best_goal_path = None\n",
        "    final_goal = None\n",
        "\n",
        "    for goal in goals:\n",
        "        path = find_shortest_path(current_location, goal, obstacles, map_size)\n",
        "        if path is not None:\n",
        "            goal_distance = len(path) - 1\n",
        "            if goal_distance < min_goal_distance:\n",
        "                min_goal_distance = goal_distance\n",
        "                best_goal_path = path\n",
        "                final_goal = goal\n",
        "\n",
        "    if best_goal_path is None:\n",
        "         return float('inf'), []\n",
        "\n",
        "    total_distance += min_goal_distance\n",
        "    path_segments.append(best_goal_path)\n",
        "\n",
        "    return total_distance, path_segments\n",
        "\n",
        "# 2. 모든 커피숍을 방문하는 순열 생성 및 목표 지점 포함\n",
        "# 목표 지점은 마지막에 추가되므로 커피숍 순열만 생성하고 목표는 calculate_total_distance에서 처리\n",
        "coffee_shop_permutations = list(itertools.permutations(coffee_shops))\n",
        "\n",
        "# 모든 가능한 전체 순열 (Home -> 커피숍 순열 -> 목표) 을 직접 생성하지 않고\n",
        "# calculate_total_distance 함수에서 각 커피숍 순열에 대해 Home과 최단 목표까지의 경로를 계산합니다.\n",
        "# coffee_shop_permutations 변수에 커피숍 방문 순서만 저장합니다."
      ],
      "execution_count": 10,
      "outputs": []
    },
    {
      "cell_type": "markdown",
      "metadata": {
        "id": "f5a416f1"
      },
      "source": [
        "**Reasoning**:\n",
        "The previous code failed because the variables `coffee_shops`, `obstacles`, `map_size`, `home`, and `goals` were not defined in the current scope. These variables were defined in a previous cell. The code block needs to be re-executed with these variables accessible.\n",
        "\n"
      ]
    },
    {
      "cell_type": "code",
      "metadata": {
        "id": "qqI5339TzfEr"
      },
      "source": [
        "import heapq\n",
        "import itertools\n",
        "\n",
        "# Re-defining variables from the previous cell to ensure they are accessible\n",
        "# 맵의 크기를 정의합니다.\n",
        "map_size = 15\n",
        "\n",
        "# 장애물 좌표들을 정의합니다.\n",
        "obstacles = [(5, 5), (3, 7), (8, 4), (11, 12), (6, 8), (9, 4), (6, 11)]\n",
        "\n",
        "# 커피숍 좌표들을 정의합니다.\n",
        "coffee_shops = [(3, 5), (6, 4), (11, 7)]\n",
        "\n",
        "# Home 좌표를 정의합니다.\n",
        "home = (12, 3)\n",
        "\n",
        "# 목표 좌표들을 정의합니다.\n",
        "goals = [(2, 13), (3, 14)]\n",
        "\n",
        "\n",
        "# 1. 장애물을 고려하여 두 지점 간의 최단 경로를 찾는 함수 (A* 알고리즘 사용)\n",
        "def heuristic(a, b):\n",
        "    # 맨해튼 거리 휴리스틱\n",
        "    return abs(a[0] - b[0]) + abs(a[1] - b[1])\n",
        "\n",
        "def find_shortest_path(start, goal, obstacles, map_size):\n",
        "    # 우선순위 큐를 사용하여 탐색할 노드를 관리 (f_score, 현재_좌표)\n",
        "    open_set = [(0 + heuristic(start, goal), start)]\n",
        "    # 이미 탐색한 노드를 저장하고 최단 경로를 재구성하기 위한 딕셔너리\n",
        "    came_from = {}\n",
        "    # 시작점에서 각 노드까지의 실제 비용\n",
        "    g_score = {start: 0}\n",
        "    # 시작점에서 각 노드까지의 예상 총 비용 (g_score + heuristic)\n",
        "    f_score = {start: heuristic(start, goal)}\n",
        "\n",
        "    while open_set:\n",
        "        # f_score가 가장 낮은 노드를 가져옴\n",
        "        current_f, current = heapq.heappop(open_set)\n",
        "\n",
        "        # 목표에 도달하면 경로를 재구성하여 반환\n",
        "        if current == goal:\n",
        "            path = []\n",
        "            while current in came_from:\n",
        "                path.append(current)\n",
        "                current = came_from[current]\n",
        "            path.append(start)\n",
        "            path.reverse()\n",
        "            return path\n",
        "\n",
        "        # 현재 노드의 이웃 노드들을 탐색\n",
        "        for dx, dy in [(0, 1), (0, -1), (1, 0), (-1, 0)]:\n",
        "            neighbor = (current[0] + dx, current[1] + dy)\n",
        "\n",
        "            # 맵 범위를 벗어나거나 장애물이 있는 경우 스킵\n",
        "            if not (0 <= neighbor[0] < map_size and 0 <= neighbor[1] < map_size):\n",
        "                continue\n",
        "            if neighbor in obstacles:\n",
        "                continue\n",
        "\n",
        "            # 이웃 노드까지의 새로운 g_score 계산\n",
        "            tentative_g_score = g_score[current] + 1\n",
        "\n",
        "            # 새로운 g_score가 기존 g_score보다 작거나, 이웃 노드를 처음 방문하는 경우\n",
        "            if neighbor not in g_score or tentative_g_score < g_score[neighbor]:\n",
        "                came_from[neighbor] = current\n",
        "                g_score[neighbor] = tentative_g_score\n",
        "                f_score[neighbor] = tentative_g_score + heuristic(neighbor, goal)\n",
        "                # 이웃 노드를 open_set에 추가하거나 업데이트\n",
        "                heapq.heappush(open_set, (f_score[neighbor], neighbor))\n",
        "\n",
        "    # 경로를 찾지 못한 경우 None 반환\n",
        "    return None\n",
        "\n",
        "# 3. 주어진 순열에 대한 총 경로 거리를 계산하는 함수\n",
        "def calculate_total_distance(permutation, start, goals, obstacles, map_size):\n",
        "    current_location = start\n",
        "    total_distance = 0\n",
        "    path_segments = []\n",
        "\n",
        "    # Home에서 첫 번째 방문 지점까지의 경로\n",
        "    first_stop = permutation[0]\n",
        "    path = find_shortest_path(current_location, first_stop, obstacles, map_size)\n",
        "    if path is None:\n",
        "        return float('inf'), [] # 경로를 찾지 못한 경우 무한대 반환\n",
        "    total_distance += len(path) - 1\n",
        "    path_segments.append(path)\n",
        "    current_location = first_stop\n",
        "\n",
        "    # 방문 지점들 간의 경로\n",
        "    for i in range(len(permutation) - 1):\n",
        "        path = find_shortest_path(current_location, permutation[i+1], obstacles, map_size)\n",
        "        if path is None:\n",
        "            return float('inf'), []\n",
        "        total_distance += len(path) - 1\n",
        "        path_segments.append(path)\n",
        "        current_location = permutation[i+1]\n",
        "\n",
        "    # 마지막 방문 지점에서 목표 지점까지의 경로 (두 목표 중 최단 경로 선택)\n",
        "    min_goal_distance = float('inf')\n",
        "    best_goal_path = None\n",
        "    final_goal = None\n",
        "\n",
        "    for goal in goals:\n",
        "        path = find_shortest_path(current_location, goal, obstacles, map_size)\n",
        "        if path is not None:\n",
        "            goal_distance = len(path) - 1\n",
        "            if goal_distance < min_goal_distance:\n",
        "                min_goal_distance = goal_distance\n",
        "                best_goal_path = path\n",
        "                final_goal = goal\n",
        "\n",
        "    if best_goal_path is None:\n",
        "         return float('inf'), []\n",
        "\n",
        "    total_distance += min_goal_distance\n",
        "    path_segments.append(best_goal_path)\n",
        "\n",
        "    return total_distance, path_segments\n",
        "\n",
        "# 2. 모든 커피숍을 방문하는 순열 생성 및 목표 지점 포함\n",
        "# 목표 지점은 마지막에 추가되므로 커피숍 순열만 생성하고 목표는 calculate_total_distance에서 처리\n",
        "coffee_shop_permutations = list(itertools.permutations(coffee_shops))\n",
        "\n",
        "# 모든 가능한 전체 순열 (Home -> 커피숍 순열 -> 목표) 을 직접 생성하지 않고\n",
        "# calculate_total_distance 함수에서 각 커피숍 순열에 대해 Home과 최단 목표까지의 경로를 계산합니다.\n",
        "# coffee_shop_permutations 변수에 커피숍 방문 순서만 저장합니다."
      ],
      "execution_count": 11,
      "outputs": []
    },
    {
      "cell_type": "markdown",
      "metadata": {
        "id": "c2e8b197"
      },
      "source": [
        "## 경로 탐색 실행\n",
        "\n",
        "### Subtask:\n",
        "Home에서 시작하여 모든 커피숍을 방문하고 두 목표 지점 중 하나에 도착하는 모든 가능한 경로를 탐색하고 각 경로의 거리를 계산합니다.\n"
      ]
    },
    {
      "cell_type": "markdown",
      "metadata": {
        "id": "d6e4868b"
      },
      "source": [
        "**Reasoning**:\n",
        "Iterate through each coffee shop permutation, calculate the total distance and path segments using the defined function, and store the valid paths and their distances.\n",
        "\n"
      ]
    },
    {
      "cell_type": "code",
      "metadata": {
        "id": "43f954a3"
      },
      "source": [
        "# 계산된 총 거리와 해당 경로 정보를 저장할 리스트를 초기화합니다.\n",
        "all_possible_paths = []\n",
        "\n",
        "# 각 커피숍 순열에 대해 총 거리를 계산하고 경로 정보를 저장합니다.\n",
        "for perm in coffee_shop_permutations:\n",
        "    total_dist, path_segments = calculate_total_distance(perm, home, goals, obstacles, map_size)\n",
        "\n",
        "    # 경로를 찾은 경우 (거리가 무한대가 아닌 경우) 저장합니다.\n",
        "    if total_dist != float('inf'):\n",
        "        all_possible_paths.append({\n",
        "            'permutation': perm,\n",
        "            'total_distance': total_dist,\n",
        "            'path_segments': path_segments\n",
        "        })\n",
        "\n",
        "# 결과 확인 (옵션)\n",
        "# print(f\"Found {len(all_possible_paths)} valid paths.\")\n",
        "# for path_info in all_possible_paths:\n",
        "#     print(f\"Permutation: {path_info['permutation']}, Distance: {path_info['total_distance']}\")"
      ],
      "execution_count": 12,
      "outputs": []
    },
    {
      "cell_type": "markdown",
      "metadata": {
        "id": "4b95db0d"
      },
      "source": [
        "## 최단 경로 선택\n",
        "\n",
        "### Subtask:\n",
        "계산된 경로들 중에서 가장 짧은 경로를 선택합니다.\n"
      ]
    },
    {
      "cell_type": "markdown",
      "metadata": {
        "id": "e88ed87a"
      },
      "source": [
        "**Reasoning**:\n",
        "Check if the list of possible paths is empty and find the path with the minimum total distance from the calculated paths.\n",
        "\n"
      ]
    },
    {
      "cell_type": "code",
      "metadata": {
        "id": "e2768616"
      },
      "source": [
        "# 1. all_possible_paths 리스트가 비어 있는지 확인합니다.\n",
        "if not all_possible_paths:\n",
        "    print(\"유효한 경로를 찾을 수 없습니다.\")\n",
        "else:\n",
        "    # 2. all_possible_paths 리스트에서 'total_distance' 키의 값을 기준으로 최소 거리를 가진 경로 정보를 찾습니다.\n",
        "    shortest_path_info = min(all_possible_paths, key=lambda item: item['total_distance'])\n",
        "\n",
        "    # 3. 찾은 최소 거리 경로 정보를 shortest_path_info 변수에 저장합니다. (이미 위에서 수행됨)\n",
        "\n",
        "    # 결과 확인 (옵션)\n",
        "    # print(\"\\n최단 경로 정보:\")\n",
        "    # print(f\"순열: {shortest_path_info['permutation']}\")\n",
        "    # print(f\"총 거리: {shortest_path_info['total_distance']}\")\n",
        "    # print(f\"경로 세그먼트 수: {len(shortest_path_info['path_segments'])}\")"
      ],
      "execution_count": 13,
      "outputs": []
    },
    {
      "cell_type": "markdown",
      "metadata": {
        "id": "8a7cf9ce"
      },
      "source": [
        "## 맵 시각화\n",
        "\n",
        "### Subtask:\n",
        "Matplotlib을 사용하여 15x15 맵을 그리고 장애물, 커피숍, Home, 목표 지점을 표시합니다.\n"
      ]
    },
    {
      "cell_type": "markdown",
      "metadata": {
        "id": "6372e255"
      },
      "source": [
        "**Reasoning**:\n",
        "Matplotlib을 사용하여 15x15 맵을 그리고 장애물, 커피숍, Home, 목표 지점을 표시하기 위해 matplotlib.pyplot 모듈을 임포트하고 figure와 axes 객체를 생성하며 각 지점을 맵에 표시합니다.\n",
        "\n"
      ]
    },
    {
      "cell_type": "code",
      "metadata": {
        "colab": {
          "base_uri": "https://localhost:8080/",
          "height": 1000
        },
        "id": "7996d0bc",
        "outputId": "34fcd10b-404b-423e-df44-c5bfa79f680c"
      },
      "source": [
        "import matplotlib.pyplot as plt\n",
        "import matplotlib.font_manager as fm\n",
        "\n",
        "# 한글 폰트 설정\n",
        "# 시스템에 따라 폰트 경로 또는 이름이 다를 수 있습니다.\n",
        "# 예시: 'NanumGothic' 또는 시스템에 설치된 다른 한글 폰트 이름\n",
        "try:\n",
        "    # 나눔 고딕 설치 여부 확인 및 사용\n",
        "    font_path = fm.findSystemFonts(fontpaths=None, fontext='ttf')\n",
        "    nanum_font = next((font for font in font_path if 'NanumGothic' in font or 'NanumSquare' in font), None)\n",
        "    if nanum_font:\n",
        "        plt.rcParams['font.family'] = fm.FontProperties(fname=nanum_font).get_name()\n",
        "        print(f\"Using font: {plt.rcParams['font.family']}\")\n",
        "    else:\n",
        "        plt.rcParams['font.family'] = 'Malgun Gothic' # Windows 기본 폰트\n",
        "        print(\"NanumGothic not found, trying Malgun Gothic.\")\n",
        "except:\n",
        "    plt.rcParams['font.family'] = 'AppleGothic' # macOS 기본 폰트\n",
        "    print(\"Could not find NanumGothic or Malgun Gothic, trying AppleGothic.\")\n",
        "\n",
        "\n",
        "plt.rcParams['axes.unicode_minus'] = False # 마이너스 기호 깨짐 방지\n",
        "\n",
        "# 15x15 크기의 맵을 그리기 위해 figure와 axes 객체를 생성합니다.\n",
        "fig, ax = plt.subplots(figsize=(8, 8))\n",
        "\n",
        "# 맵의 배경을 나타내기 위해 빈 격자를 그립니다.\n",
        "ax.set_xlim([0, map_size])\n",
        "ax.set_ylim([0, map_size])\n",
        "ax.set_xticks(range(map_size + 1))\n",
        "ax.set_yticks(range(map_size + 1))\n",
        "ax.grid(True)\n",
        "\n",
        "# 장애물 좌표를 'X' 마커를 사용하여 맵에 표시합니다.\n",
        "obstacle_x = [obs[0] for obs in obstacles]\n",
        "obstacle_y = [obs[1] for obs in obstacles]\n",
        "ax.plot(obstacle_x, obstacle_y, 'X', color='red', markersize=10, label='Obstacles')\n",
        "\n",
        "# 커피숍 좌표를 'C' 마커를 사용하여 맵에 표시합니다.\n",
        "coffee_x = [c[0] for c in coffee_shops]\n",
        "coffee_y = [c[1] for c in coffee_shops]\n",
        "ax.plot(coffee_x, coffee_y, 'o', color='brown', markersize=10, label='Coffee Shops')\n",
        "\n",
        "# Home 좌표를 'H' 마커를 사용하여 맵에 표시합니다.\n",
        "ax.plot(home[0], home[1], 's', color='blue', markersize=10, label='Home')\n",
        "\n",
        "# 목표 좌표를 'G' 마커를 사용하여 맵에 표시합니다.\n",
        "goal_x = [g[0] for g in goals]\n",
        "goal_y = [g[1] for g in goals]\n",
        "ax.plot(goal_x, goal_y, '*', color='green', markersize=12, label='Goals')\n",
        "\n",
        "# 맵의 x축과 y축 범위를 0부터 map_size까지 설정합니다. (이미 위에서 설정됨)\n",
        "\n",
        "# 맵의 제목을 \"맵 시각화\"와 같이 설정합니다.\n",
        "ax.set_title(\"맵 시각화\")\n",
        "ax.set_xlabel(\"X 좌표\")\n",
        "ax.set_ylabel(\"Y 좌표\")\n",
        "\n",
        "# 범례를 표시합니다.\n",
        "ax.legend()\n",
        "\n",
        "# y축을 위로 향하게 설정 (일반적인 맵 좌표계)\n",
        "plt.gca().invert_yaxis()\n",
        "\n",
        "# 최단 경로 정보를 가져옵니다.\n",
        "# shortest_path_info 변수가 정의되어 있어야 합니다.\n",
        "if 'shortest_path_info' in locals() or 'shortest_path_info' in globals():\n",
        "    path_segments = shortest_path_info['path_segments']\n",
        "\n",
        "    # 각 경로 세그먼트를 순회하며 맵에 그립니다.\n",
        "    for segment in path_segments:\n",
        "        # 경로 세그먼트의 x, y 좌표를 추출합니다.\n",
        "        segment_x = [point[0] for point in segment]\n",
        "        segment_y = [point[1] for point in segment]\n",
        "\n",
        "        # 맵 위에 빨간색 선으로 경로를 그립니다.\n",
        "        ax.plot(segment_x, segment_y, '-', color='red', linewidth=2)\n",
        "else:\n",
        "    print(\"최단 경로 정보를 찾을 수 없습니다. 이전 단계를 실행했는지 확인해주세요.\")\n",
        "\n",
        "\n",
        "# 플롯을 화면에 표시합니다.\n",
        "plt.show()"
      ],
      "execution_count": 14,
      "outputs": [
        {
          "output_type": "stream",
          "name": "stderr",
          "text": [
            "WARNING:matplotlib.font_manager:findfont: Font family 'Malgun Gothic' not found.\n",
            "WARNING:matplotlib.font_manager:findfont: Font family 'Malgun Gothic' not found.\n",
            "WARNING:matplotlib.font_manager:findfont: Font family 'Malgun Gothic' not found.\n",
            "WARNING:matplotlib.font_manager:findfont: Font family 'Malgun Gothic' not found.\n",
            "WARNING:matplotlib.font_manager:findfont: Font family 'Malgun Gothic' not found.\n",
            "WARNING:matplotlib.font_manager:findfont: Font family 'Malgun Gothic' not found.\n",
            "WARNING:matplotlib.font_manager:findfont: Font family 'Malgun Gothic' not found.\n",
            "WARNING:matplotlib.font_manager:findfont: Font family 'Malgun Gothic' not found.\n",
            "WARNING:matplotlib.font_manager:findfont: Font family 'Malgun Gothic' not found.\n",
            "WARNING:matplotlib.font_manager:findfont: Font family 'Malgun Gothic' not found.\n",
            "WARNING:matplotlib.font_manager:findfont: Font family 'Malgun Gothic' not found.\n",
            "WARNING:matplotlib.font_manager:findfont: Font family 'Malgun Gothic' not found.\n",
            "WARNING:matplotlib.font_manager:findfont: Font family 'Malgun Gothic' not found.\n",
            "WARNING:matplotlib.font_manager:findfont: Font family 'Malgun Gothic' not found.\n",
            "WARNING:matplotlib.font_manager:findfont: Font family 'Malgun Gothic' not found.\n",
            "WARNING:matplotlib.font_manager:findfont: Font family 'Malgun Gothic' not found.\n",
            "WARNING:matplotlib.font_manager:findfont: Font family 'Malgun Gothic' not found.\n",
            "WARNING:matplotlib.font_manager:findfont: Font family 'Malgun Gothic' not found.\n",
            "/usr/local/lib/python3.11/dist-packages/IPython/core/pylabtools.py:151: UserWarning: Glyph 51340 (\\N{HANGUL SYLLABLE JWA}) missing from font(s) DejaVu Sans.\n",
            "  fig.canvas.print_figure(bytes_io, **kw)\n",
            "/usr/local/lib/python3.11/dist-packages/IPython/core/pylabtools.py:151: UserWarning: Glyph 54364 (\\N{HANGUL SYLLABLE PYO}) missing from font(s) DejaVu Sans.\n",
            "  fig.canvas.print_figure(bytes_io, **kw)\n",
            "WARNING:matplotlib.font_manager:findfont: Font family 'Malgun Gothic' not found.\n",
            "WARNING:matplotlib.font_manager:findfont: Font family 'Malgun Gothic' not found.\n",
            "/usr/local/lib/python3.11/dist-packages/IPython/core/pylabtools.py:151: UserWarning: Glyph 47605 (\\N{HANGUL SYLLABLE MAEB}) missing from font(s) DejaVu Sans.\n",
            "  fig.canvas.print_figure(bytes_io, **kw)\n",
            "/usr/local/lib/python3.11/dist-packages/IPython/core/pylabtools.py:151: UserWarning: Glyph 49884 (\\N{HANGUL SYLLABLE SI}) missing from font(s) DejaVu Sans.\n",
            "  fig.canvas.print_figure(bytes_io, **kw)\n",
            "/usr/local/lib/python3.11/dist-packages/IPython/core/pylabtools.py:151: UserWarning: Glyph 44033 (\\N{HANGUL SYLLABLE GAG}) missing from font(s) DejaVu Sans.\n",
            "  fig.canvas.print_figure(bytes_io, **kw)\n",
            "/usr/local/lib/python3.11/dist-packages/IPython/core/pylabtools.py:151: UserWarning: Glyph 54868 (\\N{HANGUL SYLLABLE HWA}) missing from font(s) DejaVu Sans.\n",
            "  fig.canvas.print_figure(bytes_io, **kw)\n",
            "WARNING:matplotlib.font_manager:findfont: Font family 'Malgun Gothic' not found.\n",
            "WARNING:matplotlib.font_manager:findfont: Font family 'Malgun Gothic' not found.\n",
            "WARNING:matplotlib.font_manager:findfont: Font family 'Malgun Gothic' not found.\n",
            "WARNING:matplotlib.font_manager:findfont: Font family 'Malgun Gothic' not found.\n",
            "WARNING:matplotlib.font_manager:findfont: Font family 'Malgun Gothic' not found.\n",
            "WARNING:matplotlib.font_manager:findfont: Font family 'Malgun Gothic' not found.\n",
            "WARNING:matplotlib.font_manager:findfont: Font family 'Malgun Gothic' not found.\n",
            "WARNING:matplotlib.font_manager:findfont: Font family 'Malgun Gothic' not found.\n",
            "WARNING:matplotlib.font_manager:findfont: Font family 'Malgun Gothic' not found.\n",
            "WARNING:matplotlib.font_manager:findfont: Font family 'Malgun Gothic' not found.\n",
            "WARNING:matplotlib.font_manager:findfont: Font family 'Malgun Gothic' not found.\n",
            "WARNING:matplotlib.font_manager:findfont: Font family 'Malgun Gothic' not found.\n",
            "WARNING:matplotlib.font_manager:findfont: Font family 'Malgun Gothic' not found.\n",
            "WARNING:matplotlib.font_manager:findfont: Font family 'Malgun Gothic' not found.\n",
            "WARNING:matplotlib.font_manager:findfont: Font family 'Malgun Gothic' not found.\n",
            "WARNING:matplotlib.font_manager:findfont: Font family 'Malgun Gothic' not found.\n",
            "WARNING:matplotlib.font_manager:findfont: Font family 'Malgun Gothic' not found.\n",
            "WARNING:matplotlib.font_manager:findfont: Font family 'Malgun Gothic' not found.\n",
            "WARNING:matplotlib.font_manager:findfont: Font family 'Malgun Gothic' not found.\n",
            "WARNING:matplotlib.font_manager:findfont: Font family 'Malgun Gothic' not found.\n",
            "WARNING:matplotlib.font_manager:findfont: Font family 'Malgun Gothic' not found.\n",
            "WARNING:matplotlib.font_manager:findfont: Font family 'Malgun Gothic' not found.\n",
            "WARNING:matplotlib.font_manager:findfont: Font family 'Malgun Gothic' not found.\n",
            "WARNING:matplotlib.font_manager:findfont: Font family 'Malgun Gothic' not found.\n",
            "WARNING:matplotlib.font_manager:findfont: Font family 'Malgun Gothic' not found.\n"
          ]
        },
        {
          "output_type": "stream",
          "name": "stdout",
          "text": [
            "NanumGothic not found, trying Malgun Gothic.\n"
          ]
        },
        {
          "output_type": "stream",
          "name": "stderr",
          "text": [
            "WARNING:matplotlib.font_manager:findfont: Font family 'Malgun Gothic' not found.\n",
            "WARNING:matplotlib.font_manager:findfont: Font family 'Malgun Gothic' not found.\n",
            "WARNING:matplotlib.font_manager:findfont: Font family 'Malgun Gothic' not found.\n",
            "WARNING:matplotlib.font_manager:findfont: Font family 'Malgun Gothic' not found.\n",
            "WARNING:matplotlib.font_manager:findfont: Font family 'Malgun Gothic' not found.\n",
            "WARNING:matplotlib.font_manager:findfont: Font family 'Malgun Gothic' not found.\n",
            "WARNING:matplotlib.font_manager:findfont: Font family 'Malgun Gothic' not found.\n",
            "WARNING:matplotlib.font_manager:findfont: Font family 'Malgun Gothic' not found.\n",
            "WARNING:matplotlib.font_manager:findfont: Font family 'Malgun Gothic' not found.\n",
            "WARNING:matplotlib.font_manager:findfont: Font family 'Malgun Gothic' not found.\n",
            "WARNING:matplotlib.font_manager:findfont: Font family 'Malgun Gothic' not found.\n",
            "WARNING:matplotlib.font_manager:findfont: Font family 'Malgun Gothic' not found.\n",
            "WARNING:matplotlib.font_manager:findfont: Font family 'Malgun Gothic' not found.\n",
            "WARNING:matplotlib.font_manager:findfont: Font family 'Malgun Gothic' not found.\n",
            "WARNING:matplotlib.font_manager:findfont: Font family 'Malgun Gothic' not found.\n",
            "WARNING:matplotlib.font_manager:findfont: Font family 'Malgun Gothic' not found.\n",
            "WARNING:matplotlib.font_manager:findfont: Font family 'Malgun Gothic' not found.\n",
            "WARNING:matplotlib.font_manager:findfont: Font family 'Malgun Gothic' not found.\n",
            "WARNING:matplotlib.font_manager:findfont: Font family 'Malgun Gothic' not found.\n",
            "WARNING:matplotlib.font_manager:findfont: Font family 'Malgun Gothic' not found.\n",
            "WARNING:matplotlib.font_manager:findfont: Font family 'Malgun Gothic' not found.\n",
            "WARNING:matplotlib.font_manager:findfont: Font family 'Malgun Gothic' not found.\n",
            "WARNING:matplotlib.font_manager:findfont: Font family 'Malgun Gothic' not found.\n",
            "WARNING:matplotlib.font_manager:findfont: Font family 'Malgun Gothic' not found.\n",
            "WARNING:matplotlib.font_manager:findfont: Font family 'Malgun Gothic' not found.\n",
            "WARNING:matplotlib.font_manager:findfont: Font family 'Malgun Gothic' not found.\n",
            "WARNING:matplotlib.font_manager:findfont: Font family 'Malgun Gothic' not found.\n",
            "WARNING:matplotlib.font_manager:findfont: Font family 'Malgun Gothic' not found.\n",
            "WARNING:matplotlib.font_manager:findfont: Font family 'Malgun Gothic' not found.\n",
            "WARNING:matplotlib.font_manager:findfont: Font family 'Malgun Gothic' not found.\n",
            "WARNING:matplotlib.font_manager:findfont: Font family 'Malgun Gothic' not found.\n",
            "WARNING:matplotlib.font_manager:findfont: Font family 'Malgun Gothic' not found.\n",
            "WARNING:matplotlib.font_manager:findfont: Font family 'Malgun Gothic' not found.\n",
            "WARNING:matplotlib.font_manager:findfont: Font family 'Malgun Gothic' not found.\n",
            "WARNING:matplotlib.font_manager:findfont: Font family 'Malgun Gothic' not found.\n",
            "WARNING:matplotlib.font_manager:findfont: Font family 'Malgun Gothic' not found.\n",
            "WARNING:matplotlib.font_manager:findfont: Font family 'Malgun Gothic' not found.\n",
            "WARNING:matplotlib.font_manager:findfont: Font family 'Malgun Gothic' not found.\n",
            "WARNING:matplotlib.font_manager:findfont: Font family 'Malgun Gothic' not found.\n",
            "WARNING:matplotlib.font_manager:findfont: Font family 'Malgun Gothic' not found.\n",
            "WARNING:matplotlib.font_manager:findfont: Font family 'Malgun Gothic' not found.\n",
            "WARNING:matplotlib.font_manager:findfont: Font family 'Malgun Gothic' not found.\n",
            "WARNING:matplotlib.font_manager:findfont: Font family 'Malgun Gothic' not found.\n",
            "WARNING:matplotlib.font_manager:findfont: Font family 'Malgun Gothic' not found.\n",
            "WARNING:matplotlib.font_manager:findfont: Font family 'Malgun Gothic' not found.\n",
            "WARNING:matplotlib.font_manager:findfont: Font family 'Malgun Gothic' not found.\n",
            "WARNING:matplotlib.font_manager:findfont: Font family 'Malgun Gothic' not found.\n",
            "WARNING:matplotlib.font_manager:findfont: Font family 'Malgun Gothic' not found.\n",
            "WARNING:matplotlib.font_manager:findfont: Font family 'Malgun Gothic' not found.\n",
            "WARNING:matplotlib.font_manager:findfont: Font family 'Malgun Gothic' not found.\n",
            "WARNING:matplotlib.font_manager:findfont: Font family 'Malgun Gothic' not found.\n",
            "WARNING:matplotlib.font_manager:findfont: Font family 'Malgun Gothic' not found.\n",
            "WARNING:matplotlib.font_manager:findfont: Font family 'Malgun Gothic' not found.\n",
            "WARNING:matplotlib.font_manager:findfont: Font family 'Malgun Gothic' not found.\n",
            "WARNING:matplotlib.font_manager:findfont: Font family 'Malgun Gothic' not found.\n",
            "WARNING:matplotlib.font_manager:findfont: Font family 'Malgun Gothic' not found.\n",
            "WARNING:matplotlib.font_manager:findfont: Font family 'Malgun Gothic' not found.\n",
            "WARNING:matplotlib.font_manager:findfont: Font family 'Malgun Gothic' not found.\n",
            "WARNING:matplotlib.font_manager:findfont: Font family 'Malgun Gothic' not found.\n",
            "WARNING:matplotlib.font_manager:findfont: Font family 'Malgun Gothic' not found.\n",
            "WARNING:matplotlib.font_manager:findfont: Font family 'Malgun Gothic' not found.\n",
            "WARNING:matplotlib.font_manager:findfont: Font family 'Malgun Gothic' not found.\n",
            "WARNING:matplotlib.font_manager:findfont: Font family 'Malgun Gothic' not found.\n",
            "WARNING:matplotlib.font_manager:findfont: Font family 'Malgun Gothic' not found.\n",
            "WARNING:matplotlib.font_manager:findfont: Font family 'Malgun Gothic' not found.\n",
            "WARNING:matplotlib.font_manager:findfont: Font family 'Malgun Gothic' not found.\n",
            "WARNING:matplotlib.font_manager:findfont: Font family 'Malgun Gothic' not found.\n",
            "WARNING:matplotlib.font_manager:findfont: Font family 'Malgun Gothic' not found.\n",
            "WARNING:matplotlib.font_manager:findfont: Font family 'Malgun Gothic' not found.\n",
            "WARNING:matplotlib.font_manager:findfont: Font family 'Malgun Gothic' not found.\n",
            "WARNING:matplotlib.font_manager:findfont: Font family 'Malgun Gothic' not found.\n",
            "WARNING:matplotlib.font_manager:findfont: Font family 'Malgun Gothic' not found.\n",
            "WARNING:matplotlib.font_manager:findfont: Font family 'Malgun Gothic' not found.\n",
            "WARNING:matplotlib.font_manager:findfont: Font family 'Malgun Gothic' not found.\n",
            "WARNING:matplotlib.font_manager:findfont: Font family 'Malgun Gothic' not found.\n",
            "WARNING:matplotlib.font_manager:findfont: Font family 'Malgun Gothic' not found.\n",
            "WARNING:matplotlib.font_manager:findfont: Font family 'Malgun Gothic' not found.\n",
            "WARNING:matplotlib.font_manager:findfont: Font family 'Malgun Gothic' not found.\n",
            "WARNING:matplotlib.font_manager:findfont: Font family 'Malgun Gothic' not found.\n",
            "WARNING:matplotlib.font_manager:findfont: Font family 'Malgun Gothic' not found.\n",
            "WARNING:matplotlib.font_manager:findfont: Font family 'Malgun Gothic' not found.\n",
            "WARNING:matplotlib.font_manager:findfont: Font family 'Malgun Gothic' not found.\n",
            "WARNING:matplotlib.font_manager:findfont: Font family 'Malgun Gothic' not found.\n",
            "WARNING:matplotlib.font_manager:findfont: Font family 'Malgun Gothic' not found.\n",
            "WARNING:matplotlib.font_manager:findfont: Font family 'Malgun Gothic' not found.\n",
            "WARNING:matplotlib.font_manager:findfont: Font family 'Malgun Gothic' not found.\n",
            "WARNING:matplotlib.font_manager:findfont: Font family 'Malgun Gothic' not found.\n",
            "WARNING:matplotlib.font_manager:findfont: Font family 'Malgun Gothic' not found.\n"
          ]
        },
        {
          "output_type": "display_data",
          "data": {
            "text/plain": [
              "<Figure size 800x800 with 1 Axes>"
            ],
            "image/png": "[encoded data removed]"
          },
          "metadata": {}
        }
      ]
    },
    {
      "cell_type": "markdown",
      "metadata": {
        "id": "b708694e"
      },
      "source": [
        "**Reasoning**:\n",
        "The previous plot command generated warnings about missing Korean characters in the font. To display the Korean characters correctly in the plot title and labels, configure matplotlib to use a font that supports Korean.\n",
        "\n"
      ]
    },
    {
      "cell_type": "code",
      "metadata": {
        "colab": {
          "base_uri": "https://localhost:8080/",
          "height": 1000
        },
        "id": "vQmKuH56zrsT",
        "outputId": "6fa3d135-3625-4f99-933f-f75a08331873"
      },
      "source": [
        "import matplotlib.pyplot as plt\n",
        "import matplotlib.font_manager as fm\n",
        "\n",
        "# 한글 폰트 설정\n",
        "# 시스템에 따라 폰트 경로 또는 이름이 다를 수 있습니다.\n",
        "# 예시: 'NanumGothic' 또는 시스템에 설치된 다른 한글 폰트 이름\n",
        "try:\n",
        "    # 나눔 고딕 설치 여부 확인 및 사용\n",
        "    font_path = fm.findSystemFonts(fontpaths=None, fontext='ttf')\n",
        "    nanum_font = next((font for font in font_path if 'NanumGothic' in font or 'NanumSquare' in font), None)\n",
        "    if nanum_font:\n",
        "        plt.rcParams['font.family'] = fm.FontProperties(fname=nanum_font).get_name()\n",
        "        print(f\"Using font: {plt.rcParams['font.family']}\")\n",
        "    else:\n",
        "        plt.rcParams['font.family'] = 'Malgun Gothic' # Windows 기본 폰트\n",
        "        print(\"NanumGothic not found, trying Malgun Gothic.\")\n",
        "except:\n",
        "    plt.rcParams['font.family'] = 'AppleGothic' # macOS 기본 폰트\n",
        "    print(\"Could not find NanumGothic or Malgun Gothic, trying AppleGothic.\")\n",
        "\n",
        "plt.rcParams['axes.unicode_minus'] = False # 마이너스 기호 깨짐 방지\n",
        "\n",
        "# 15x15 크기의 맵을 그리기 위해 figure와 axes 객체를 생성합니다.\n",
        "fig, ax = plt.subplots(figsize=(8, 8))\n",
        "\n",
        "# 맵의 배경을 나타내기 위해 빈 격자를 그립니다.\n",
        "ax.set_xlim([0, map_size])\n",
        "ax.set_ylim([0, map_size])\n",
        "ax.set_xticks(range(map_size + 1))\n",
        "ax.set_yticks(range(map_size + 1))\n",
        "ax.grid(True)\n",
        "\n",
        "# 장애물 좌표를 'X' 마커를 사용하여 맵에 표시합니다.\n",
        "obstacle_x = [obs[0] for obs in obstacles]\n",
        "obstacle_y = [obs[1] for obs in obstacles]\n",
        "ax.plot(obstacle_x, obstacle_y, 'X', color='red', markersize=10, label='Obstacles')\n",
        "\n",
        "# 커피숍 좌표를 'C' 마커를 사용하여 맵에 표시합니다.\n",
        "coffee_x = [c[0] for c in coffee_shops]\n",
        "coffee_y = [c[1] for c in coffee_shops]\n",
        "ax.plot(coffee_x, coffee_y, 'o', color='brown', markersize=10, label='Coffee Shops')\n",
        "\n",
        "# Home 좌표를 'H' 마커를 사용하여 맵에 표시합니다.\n",
        "ax.plot(home[0], home[1], 's', color='blue', markersize=10, label='Home')\n",
        "\n",
        "# 목표 좌표를 'G' 마커를 사용하여 맵에 표시합니다.\n",
        "goal_x = [g[0] for g in goals]\n",
        "goal_y = [g[1] for g in goals]\n",
        "ax.plot(goal_x, goal_y, '*', color='green', markersize=12, label='Goals')\n",
        "\n",
        "# 맵의 x축과 y축 범위를 0부터 map_size까지 설정합니다. (이미 위에서 설정됨)\n",
        "\n",
        "# 맵의 제목을 \"맵 시각화\"와 같이 설정합니다.\n",
        "ax.set_title(\"맵 시각화\")\n",
        "ax.set_xlabel(\"X 좌표\")\n",
        "ax.set_ylabel(\"Y 좌표\")\n",
        "\n",
        "# 범례를 표시합니다.\n",
        "ax.legend()\n",
        "\n",
        "# 플롯을 화면에 표시합니다.\n",
        "plt.gca().invert_yaxis() # y축을 위로 향하게 설정 (일반적인 맵 좌표계)\n",
        "\n",
        "# 최단 경로 정보를 가져옵니다.\n",
        "# shortest_path_info 변수가 정의되어 있어야 합니다.\n",
        "if 'shortest_path_info' in locals() or 'shortest_path_info' in globals():\n",
        "    path_segments = shortest_path_info['path_segments']\n",
        "\n",
        "    # 각 경로 세그먼트를 순회하며 맵에 그립니다.\n",
        "    for segment in path_segments:\n",
        "        # 경로 세그먼트의 x, y 좌표를 추출합니다.\n",
        "        segment_x = [point[0] for point in segment]\n",
        "        segment_y = [point[1] for point in segment]\n",
        "\n",
        "        # 맵 위에 빨간색 선으로 경로를 그립니다.\n",
        "        ax.plot(segment_x, segment_y, '-', color='red', linewidth=2)\n",
        "else:\n",
        "    print(\"최단 경로 정보를 찾을 수 없습니다. 이전 단계를 실행했는지 확인해주세요.\")\n",
        "\n",
        "plt.show()"
      ],
      "execution_count": 15,
      "outputs": [
        {
          "output_type": "stream",
          "name": "stderr",
          "text": [
            "WARNING:matplotlib.font_manager:findfont: Font family 'Malgun Gothic' not found.\n",
            "WARNING:matplotlib.font_manager:findfont: Font family 'Malgun Gothic' not found.\n",
            "WARNING:matplotlib.font_manager:findfont: Font family 'Malgun Gothic' not found.\n",
            "WARNING:matplotlib.font_manager:findfont: Font family 'Malgun Gothic' not found.\n",
            "WARNING:matplotlib.font_manager:findfont: Font family 'Malgun Gothic' not found.\n",
            "WARNING:matplotlib.font_manager:findfont: Font family 'Malgun Gothic' not found.\n",
            "WARNING:matplotlib.font_manager:findfont: Font family 'Malgun Gothic' not found.\n",
            "WARNING:matplotlib.font_manager:findfont: Font family 'Malgun Gothic' not found.\n",
            "WARNING:matplotlib.font_manager:findfont: Font family 'Malgun Gothic' not found.\n",
            "WARNING:matplotlib.font_manager:findfont: Font family 'Malgun Gothic' not found.\n",
            "WARNING:matplotlib.font_manager:findfont: Font family 'Malgun Gothic' not found.\n",
            "WARNING:matplotlib.font_manager:findfont: Font family 'Malgun Gothic' not found.\n",
            "WARNING:matplotlib.font_manager:findfont: Font family 'Malgun Gothic' not found.\n",
            "WARNING:matplotlib.font_manager:findfont: Font family 'Malgun Gothic' not found.\n",
            "WARNING:matplotlib.font_manager:findfont: Font family 'Malgun Gothic' not found.\n",
            "WARNING:matplotlib.font_manager:findfont: Font family 'Malgun Gothic' not found.\n",
            "WARNING:matplotlib.font_manager:findfont: Font family 'Malgun Gothic' not found.\n",
            "WARNING:matplotlib.font_manager:findfont: Font family 'Malgun Gothic' not found.\n",
            "WARNING:matplotlib.font_manager:findfont: Font family 'Malgun Gothic' not found.\n",
            "WARNING:matplotlib.font_manager:findfont: Font family 'Malgun Gothic' not found.\n",
            "WARNING:matplotlib.font_manager:findfont: Font family 'Malgun Gothic' not found.\n",
            "WARNING:matplotlib.font_manager:findfont: Font family 'Malgun Gothic' not found.\n",
            "WARNING:matplotlib.font_manager:findfont: Font family 'Malgun Gothic' not found.\n",
            "WARNING:matplotlib.font_manager:findfont: Font family 'Malgun Gothic' not found.\n",
            "WARNING:matplotlib.font_manager:findfont: Font family 'Malgun Gothic' not found.\n",
            "WARNING:matplotlib.font_manager:findfont: Font family 'Malgun Gothic' not found.\n",
            "WARNING:matplotlib.font_manager:findfont: Font family 'Malgun Gothic' not found.\n",
            "WARNING:matplotlib.font_manager:findfont: Font family 'Malgun Gothic' not found.\n",
            "WARNING:matplotlib.font_manager:findfont: Font family 'Malgun Gothic' not found.\n",
            "WARNING:matplotlib.font_manager:findfont: Font family 'Malgun Gothic' not found.\n",
            "WARNING:matplotlib.font_manager:findfont: Font family 'Malgun Gothic' not found.\n",
            "WARNING:matplotlib.font_manager:findfont: Font family 'Malgun Gothic' not found.\n",
            "WARNING:matplotlib.font_manager:findfont: Font family 'Malgun Gothic' not found.\n",
            "WARNING:matplotlib.font_manager:findfont: Font family 'Malgun Gothic' not found.\n"
          ]
        },
        {
          "output_type": "stream",
          "name": "stdout",
          "text": [
            "NanumGothic not found, trying Malgun Gothic.\n"
          ]
        },
        {
          "output_type": "stream",
          "name": "stderr",
          "text": [
            "WARNING:matplotlib.font_manager:findfont: Font family 'Malgun Gothic' not found.\n",
            "WARNING:matplotlib.font_manager:findfont: Font family 'Malgun Gothic' not found.\n",
            "WARNING:matplotlib.font_manager:findfont: Font family 'Malgun Gothic' not found.\n",
            "WARNING:matplotlib.font_manager:findfont: Font family 'Malgun Gothic' not found.\n",
            "WARNING:matplotlib.font_manager:findfont: Font family 'Malgun Gothic' not found.\n",
            "WARNING:matplotlib.font_manager:findfont: Font family 'Malgun Gothic' not found.\n",
            "WARNING:matplotlib.font_manager:findfont: Font family 'Malgun Gothic' not found.\n",
            "WARNING:matplotlib.font_manager:findfont: Font family 'Malgun Gothic' not found.\n",
            "WARNING:matplotlib.font_manager:findfont: Font family 'Malgun Gothic' not found.\n",
            "WARNING:matplotlib.font_manager:findfont: Font family 'Malgun Gothic' not found.\n",
            "WARNING:matplotlib.font_manager:findfont: Font family 'Malgun Gothic' not found.\n",
            "WARNING:matplotlib.font_manager:findfont: Font family 'Malgun Gothic' not found.\n",
            "WARNING:matplotlib.font_manager:findfont: Font family 'Malgun Gothic' not found.\n",
            "WARNING:matplotlib.font_manager:findfont: Font family 'Malgun Gothic' not found.\n",
            "WARNING:matplotlib.font_manager:findfont: Font family 'Malgun Gothic' not found.\n",
            "WARNING:matplotlib.font_manager:findfont: Font family 'Malgun Gothic' not found.\n",
            "WARNING:matplotlib.font_manager:findfont: Font family 'Malgun Gothic' not found.\n",
            "WARNING:matplotlib.font_manager:findfont: Font family 'Malgun Gothic' not found.\n",
            "WARNING:matplotlib.font_manager:findfont: Font family 'Malgun Gothic' not found.\n",
            "WARNING:matplotlib.font_manager:findfont: Font family 'Malgun Gothic' not found.\n",
            "WARNING:matplotlib.font_manager:findfont: Font family 'Malgun Gothic' not found.\n",
            "WARNING:matplotlib.font_manager:findfont: Font family 'Malgun Gothic' not found.\n",
            "WARNING:matplotlib.font_manager:findfont: Font family 'Malgun Gothic' not found.\n",
            "WARNING:matplotlib.font_manager:findfont: Font family 'Malgun Gothic' not found.\n",
            "WARNING:matplotlib.font_manager:findfont: Font family 'Malgun Gothic' not found.\n",
            "WARNING:matplotlib.font_manager:findfont: Font family 'Malgun Gothic' not found.\n",
            "WARNING:matplotlib.font_manager:findfont: Font family 'Malgun Gothic' not found.\n",
            "WARNING:matplotlib.font_manager:findfont: Font family 'Malgun Gothic' not found.\n",
            "WARNING:matplotlib.font_manager:findfont: Font family 'Malgun Gothic' not found.\n",
            "WARNING:matplotlib.font_manager:findfont: Font family 'Malgun Gothic' not found.\n",
            "WARNING:matplotlib.font_manager:findfont: Font family 'Malgun Gothic' not found.\n",
            "WARNING:matplotlib.font_manager:findfont: Font family 'Malgun Gothic' not found.\n",
            "WARNING:matplotlib.font_manager:findfont: Font family 'Malgun Gothic' not found.\n",
            "WARNING:matplotlib.font_manager:findfont: Font family 'Malgun Gothic' not found.\n",
            "WARNING:matplotlib.font_manager:findfont: Font family 'Malgun Gothic' not found.\n",
            "WARNING:matplotlib.font_manager:findfont: Font family 'Malgun Gothic' not found.\n",
            "WARNING:matplotlib.font_manager:findfont: Font family 'Malgun Gothic' not found.\n",
            "WARNING:matplotlib.font_manager:findfont: Font family 'Malgun Gothic' not found.\n",
            "WARNING:matplotlib.font_manager:findfont: Font family 'Malgun Gothic' not found.\n",
            "WARNING:matplotlib.font_manager:findfont: Font family 'Malgun Gothic' not found.\n",
            "WARNING:matplotlib.font_manager:findfont: Font family 'Malgun Gothic' not found.\n",
            "WARNING:matplotlib.font_manager:findfont: Font family 'Malgun Gothic' not found.\n",
            "WARNING:matplotlib.font_manager:findfont: Font family 'Malgun Gothic' not found.\n",
            "WARNING:matplotlib.font_manager:findfont: Font family 'Malgun Gothic' not found.\n",
            "WARNING:matplotlib.font_manager:findfont: Font family 'Malgun Gothic' not found.\n",
            "WARNING:matplotlib.font_manager:findfont: Font family 'Malgun Gothic' not found.\n",
            "WARNING:matplotlib.font_manager:findfont: Font family 'Malgun Gothic' not found.\n",
            "WARNING:matplotlib.font_manager:findfont: Font family 'Malgun Gothic' not found.\n",
            "WARNING:matplotlib.font_manager:findfont: Font family 'Malgun Gothic' not found.\n",
            "WARNING:matplotlib.font_manager:findfont: Font family 'Malgun Gothic' not found.\n",
            "WARNING:matplotlib.font_manager:findfont: Font family 'Malgun Gothic' not found.\n",
            "WARNING:matplotlib.font_manager:findfont: Font family 'Malgun Gothic' not found.\n",
            "WARNING:matplotlib.font_manager:findfont: Font family 'Malgun Gothic' not found.\n",
            "WARNING:matplotlib.font_manager:findfont: Font family 'Malgun Gothic' not found.\n",
            "WARNING:matplotlib.font_manager:findfont: Font family 'Malgun Gothic' not found.\n",
            "WARNING:matplotlib.font_manager:findfont: Font family 'Malgun Gothic' not found.\n",
            "WARNING:matplotlib.font_manager:findfont: Font family 'Malgun Gothic' not found.\n",
            "WARNING:matplotlib.font_manager:findfont: Font family 'Malgun Gothic' not found.\n",
            "WARNING:matplotlib.font_manager:findfont: Font family 'Malgun Gothic' not found.\n",
            "WARNING:matplotlib.font_manager:findfont: Font family 'Malgun Gothic' not found.\n",
            "WARNING:matplotlib.font_manager:findfont: Font family 'Malgun Gothic' not found.\n",
            "WARNING:matplotlib.font_manager:findfont: Font family 'Malgun Gothic' not found.\n",
            "WARNING:matplotlib.font_manager:findfont: Font family 'Malgun Gothic' not found.\n",
            "WARNING:matplotlib.font_manager:findfont: Font family 'Malgun Gothic' not found.\n",
            "WARNING:matplotlib.font_manager:findfont: Font family 'Malgun Gothic' not found.\n",
            "WARNING:matplotlib.font_manager:findfont: Font family 'Malgun Gothic' not found.\n",
            "WARNING:matplotlib.font_manager:findfont: Font family 'Malgun Gothic' not found.\n",
            "WARNING:matplotlib.font_manager:findfont: Font family 'Malgun Gothic' not found.\n",
            "WARNING:matplotlib.font_manager:findfont: Font family 'Malgun Gothic' not found.\n",
            "WARNING:matplotlib.font_manager:findfont: Font family 'Malgun Gothic' not found.\n",
            "WARNING:matplotlib.font_manager:findfont: Font family 'Malgun Gothic' not found.\n",
            "WARNING:matplotlib.font_manager:findfont: Font family 'Malgun Gothic' not found.\n",
            "WARNING:matplotlib.font_manager:findfont: Font family 'Malgun Gothic' not found.\n",
            "WARNING:matplotlib.font_manager:findfont: Font family 'Malgun Gothic' not found.\n",
            "WARNING:matplotlib.font_manager:findfont: Font family 'Malgun Gothic' not found.\n",
            "WARNING:matplotlib.font_manager:findfont: Font family 'Malgun Gothic' not found.\n",
            "WARNING:matplotlib.font_manager:findfont: Font family 'Malgun Gothic' not found.\n",
            "WARNING:matplotlib.font_manager:findfont: Font family 'Malgun Gothic' not found.\n",
            "WARNING:matplotlib.font_manager:findfont: Font family 'Malgun Gothic' not found.\n",
            "WARNING:matplotlib.font_manager:findfont: Font family 'Malgun Gothic' not found.\n",
            "WARNING:matplotlib.font_manager:findfont: Font family 'Malgun Gothic' not found.\n",
            "WARNING:matplotlib.font_manager:findfont: Font family 'Malgun Gothic' not found.\n",
            "WARNING:matplotlib.font_manager:findfont: Font family 'Malgun Gothic' not found.\n",
            "WARNING:matplotlib.font_manager:findfont: Font family 'Malgun Gothic' not found.\n",
            "WARNING:matplotlib.font_manager:findfont: Font family 'Malgun Gothic' not found.\n",
            "WARNING:matplotlib.font_manager:findfont: Font family 'Malgun Gothic' not found.\n",
            "WARNING:matplotlib.font_manager:findfont: Font family 'Malgun Gothic' not found.\n",
            "WARNING:matplotlib.font_manager:findfont: Font family 'Malgun Gothic' not found.\n",
            "WARNING:matplotlib.font_manager:findfont: Font family 'Malgun Gothic' not found.\n",
            "WARNING:matplotlib.font_manager:findfont: Font family 'Malgun Gothic' not found.\n",
            "WARNING:matplotlib.font_manager:findfont: Font family 'Malgun Gothic' not found.\n",
            "WARNING:matplotlib.font_manager:findfont: Font family 'Malgun Gothic' not found.\n",
            "WARNING:matplotlib.font_manager:findfont: Font family 'Malgun Gothic' not found.\n",
            "WARNING:matplotlib.font_manager:findfont: Font family 'Malgun Gothic' not found.\n",
            "WARNING:matplotlib.font_manager:findfont: Font family 'Malgun Gothic' not found.\n",
            "WARNING:matplotlib.font_manager:findfont: Font family 'Malgun Gothic' not found.\n",
            "WARNING:matplotlib.font_manager:findfont: Font family 'Malgun Gothic' not found.\n",
            "WARNING:matplotlib.font_manager:findfont: Font family 'Malgun Gothic' not found.\n",
            "WARNING:matplotlib.font_manager:findfont: Font family 'Malgun Gothic' not found.\n"
          ]
        },
        {
          "output_type": "display_data",
          "data": {
            "text/plain": [
              "<Figure size 800x800 with 1 Axes>"
            ],
            "image/png": "[encoded data removed]"
          },
          "metadata": {}
        }
      ]
    },
    {
      "cell_type": "markdown",
      "metadata": {
        "id": "6180ff16"
      },
      "source": [
        "## 최단 경로 시각화\n",
        "\n",
        "### Subtask:\n",
        "찾은 최단 경로를 맵 위에 빨간색 선으로 그립니다.\n"
      ]
    },
    {
      "cell_type": "markdown",
      "metadata": {
        "id": "c21673db"
      },
      "source": [
        "**Reasoning**:\n",
        "Get the path segments from `shortest_path_info` and iterate through each segment to plot the path on the map using `matplotlib.pyplot.plot`.\n",
        "\n"
      ]
    },
    {
      "cell_type": "code",
      "metadata": {
        "id": "0199db3b"
      },
      "source": [
        "# 최단 경로 정보를 가져옵니다.\n",
        "path_segments = shortest_path_info['path_segments']\n",
        "\n",
        "# 각 경로 세그먼트를 순회하며 맵에 그립니다.\n",
        "for segment in path_segments:\n",
        "    # 경로 세그먼트의 x, y 좌표를 추출합니다.\n",
        "    segment_x = [point[0] for point in segment]\n",
        "    segment_y = [point[1] for point in segment]\n",
        "\n",
        "    # 맵 위에 빨간색 선으로 경로를 그립니다.\n",
        "    ax.plot(segment_x, segment_y, '-', color='red', linewidth=2)\n",
        "\n",
        "# 업데이트된 맵을 표시합니다.\n",
        "plt.show()"
      ],
      "execution_count": 16,
      "outputs": []
    },
    {
      "cell_type": "markdown",
      "metadata": {
        "id": "2e8de184"
      },
      "source": [
        "## 결과 출력\n",
        "\n",
        "### Subtask:\n",
        "최단 경로와 그 거리를 출력합니다.\n"
      ]
    },
    {
      "cell_type": "markdown",
      "metadata": {
        "id": "56388f42"
      },
      "source": [
        "**Reasoning**:\n",
        "최단 경로 정보가 담긴 shortest_path_info 딕셔너리에서 'permutation'과 'total_distance' 키의 값을 가져와 출력합니다.\n",
        "\n"
      ]
    },
    {
      "cell_type": "code",
      "metadata": {
        "colab": {
          "base_uri": "https://localhost:8080/"
        },
        "id": "1948969d",
        "outputId": "b1767a62-5e1b-4071-959d-048fc2225b3b"
      },
      "source": [
        "# 최단 경로로 방문하는 커피숍 순서를 출력합니다.\n",
        "print(f\"최단 경로 커피숍 방문 순서: {shortest_path_info['permutation']}\")\n",
        "\n",
        "# 최단 경로의 총 거리를 출력합니다.\n",
        "print(f\"최단 경로 총 거리: {shortest_path_info['total_distance']}\")"
      ],
      "execution_count": 17,
      "outputs": [
        {
          "output_type": "stream",
          "name": "stdout",
          "text": [
            "최단 경로 커피숍 방문 순서: ((11, 7), (6, 4), (3, 5))\n",
            "최단 경로 총 거리: 26\n"
          ]
        }
      ]
    },
    {
      "cell_type": "markdown",
      "metadata": {
        "id": "8d20e8f7"
      },
      "source": [
        "## Summary:\n",
        "\n",
        "### Q&A\n",
        "There were no explicit questions asked in the task description.\n",
        "\n",
        "### Data Analysis Key Findings\n",
        "\n",
        "*   The 15x15 grid contains 7 obstacle locations, 3 coffee shop locations, 1 home location, and 2 goal locations.\n",
        "*   The shortest path found from Home, visiting all coffee shops, and ending at the nearest goal location has a total distance of 26 units.\n",
        "*   The order of visiting coffee shops in the shortest path is (11, 7) -> (6, 4) -> (3, 5).\n",
        "*   All valid paths (those not blocked by obstacles) from Home through all coffee shop permutations to the nearest goal were calculated, and the shortest among them was identified.\n",
        "\n",
        "### Insights or Next Steps\n",
        "\n",
        "*   The current solution uses a brute-force approach for the TSP part (checking all coffee shop permutations), which can be computationally expensive for a larger number of coffee shops. For more coffee shops, consider implementing a more efficient TSP approximation algorithm or an exact algorithm suitable for the problem size.\n",
        "*   The visualization successfully shows the grid, points of interest, and the shortest path found. Ensure the visualization is easily interpretable, especially with regard to the path segments and the final goal reached.\n"
      ]
    }
  ]
}